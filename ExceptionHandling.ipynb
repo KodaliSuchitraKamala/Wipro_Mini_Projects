{
  "nbformat": 4,
  "nbformat_minor": 0,
  "metadata": {
    "colab": {
      "provenance": [],
      "authorship_tag": "ABX9TyM7JC2N4yOputN1BxTvQ3A0",
      "include_colab_link": true
    },
    "kernelspec": {
      "name": "python3",
      "display_name": "Python 3"
    },
    "language_info": {
      "name": "python"
    }
  },
  "cells": [
    {
      "cell_type": "markdown",
      "metadata": {
        "id": "view-in-github",
        "colab_type": "text"
      },
      "source": [
        "<a href=\"https://colab.research.google.com/github/KodaliSuchitraKamala/Wipro_Mini_Projects/blob/main/ExceptionHandling.ipynb\" target=\"_parent\"><img src=\"https://colab.research.google.com/assets/colab-badge.svg\" alt=\"Open In Colab\"/></a>"
      ]
    },
    {
      "cell_type": "code",
      "execution_count": 7,
      "metadata": {
        "colab": {
          "base_uri": "https://localhost:8080/"
        },
        "id": "Mdwix-XLssXy",
        "outputId": "42e88396-33cb-447e-fd81-c8fd0cb5d92f"
      },
      "outputs": [
        {
          "output_type": "stream",
          "name": "stdout",
          "text": [
            "Enter the file name: Purchase-1\n",
            "No.of items purchased: 5\n",
            "No.of free items: 2\n",
            "Amount to pay: 485\n",
            "Discount given: 80\n",
            "Final amount paid: 405\n"
          ]
        }
      ],
      "source": [
        "\"\"\"\n",
        "You had saved the items and their price details in a text file, which you purchased\n",
        "yesturday from a nearby supermarket.\n",
        "You need to know:\n",
        "1.How many items did you purchase?\n",
        "2.How many items are free?\n",
        "3.What is the total amount you have to pay?\n",
        "4.What is the discount amount?\n",
        "5.What is the final amount did you pay after discount?\n",
        "Help yourself by writing a python code to do this. Inculde neccesary code to handle the\n",
        "possible exceptions.\n",
        "Note:\n",
        "-> Data is stored in the text file Purchase-1.txt.\n",
        "-> Each line contains one item's details.\n",
        "-> Item name and price is separated by a space.\n",
        "-> You have to enter the file name during run time.\n",
        "Sample Input1:\n",
        "Purchase-1.txt\n",
        "Chocalate 50\n",
        "Biscuit 35\n",
        "Icecream 50\n",
        "(blank line)\n",
        "Discount 5\n",
        "Sample Output1:\n",
        "Enter the file name: Purchase-1\n",
        "No.of items purchased: 3\n",
        "No.of free items: 0\n",
        "Amount to pay: 135\n",
        "Discount given: 5\n",
        "Final amount paid: 130\n",
        "Sample Input2:\n",
        "Purchase-1.txt\n",
        "Chocalate 50\n",
        "Biscuit 35\n",
        "Icecream 50\n",
        "Rice 100\n",
        "Chicken 250\n",
        "(Blank line)\n",
        "Perfume free\n",
        "Soup free\n",
        "(blank line)\n",
        "Discount 80\n",
        "Sample Output2:\n",
        "Enter the file name: Purchase-1\n",
        "No.of items purchased: 5\n",
        "No.of free items: 2\n",
        "Amount to pay: 485\n",
        "Discount given: 80\n",
        "Final amount paid: 405\n",
        "\"\"\"\n",
        "def main():\n",
        "    try:\n",
        "        filename = input(\"Enter the file name: \").strip()\n",
        "        if not filename.endswith(\".txt\"):\n",
        "            filename += \".txt\"\n",
        "        with open(filename, \"r\") as file:\n",
        "            lines = [line.strip() for line in file if line.strip()]\n",
        "        items_count = 0\n",
        "        free_count = 0\n",
        "        total_amount = 0\n",
        "        discount = 0\n",
        "        for line in lines:\n",
        "            parts = line.split()\n",
        "            if parts[0].lower().startswith(\"discount\"):\n",
        "                try:\n",
        "                    discount = int(parts[1])\n",
        "                except (IndexError, ValueError):\n",
        "                    discount = 0\n",
        "            elif parts[-1].lower() == \"free\":\n",
        "                free_count += 1\n",
        "            else:\n",
        "                try:\n",
        "                    price = int(parts[-1])\n",
        "                    total_amount += price\n",
        "                    items_count += 1\n",
        "                except ValueError:\n",
        "                    continue\n",
        "        final_amount = total_amount - discount\n",
        "        if final_amount < 0:\n",
        "            final_amount = 0\n",
        "        print(f\"No.of items purchased: {items_count}\")\n",
        "        print(f\"No.of free items: {free_count}\")\n",
        "        print(f\"Amount to pay: {total_amount}\")\n",
        "        print(f\"Discount given: {discount}\")\n",
        "        print(f\"Final amount paid: {final_amount}\")\n",
        "    except FileNotFoundError:\n",
        "        print(\"Error: File not found. Please check the file name and try again.\")\n",
        "    except Exception as e:\n",
        "        print(f\"An unexpected error occurred: {e}\")\n",
        "if __name__ == \"__main__\":\n",
        "    main()"
      ]
    },
    {
      "cell_type": "code",
      "source": [],
      "metadata": {
        "id": "THPYJk4vxSm8"
      },
      "execution_count": null,
      "outputs": []
    }
  ]
}