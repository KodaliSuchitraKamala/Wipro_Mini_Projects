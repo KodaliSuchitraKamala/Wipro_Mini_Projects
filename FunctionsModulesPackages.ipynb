{
  "nbformat": 4,
  "nbformat_minor": 0,
  "metadata": {
    "colab": {
      "provenance": [],
      "authorship_tag": "ABX9TyN7HGHY1R1BSRVNWZelAFh6",
      "include_colab_link": true
    },
    "kernelspec": {
      "name": "python3",
      "display_name": "Python 3"
    },
    "language_info": {
      "name": "python"
    }
  },
  "cells": [
    {
      "cell_type": "markdown",
      "metadata": {
        "id": "view-in-github",
        "colab_type": "text"
      },
      "source": [
        "<a href=\"https://colab.research.google.com/github/KodaliSuchitraKamala/Wipro_Mini_Projects/blob/main/FunctionsModulesPackages.ipynb\" target=\"_parent\"><img src=\"https://colab.research.google.com/assets/colab-badge.svg\" alt=\"Open In Colab\"/></a>"
      ]
    },
    {
      "cell_type": "markdown",
      "source": [
        "### Sort the colors"
      ],
      "metadata": {
        "id": "D1io8XoG3-em"
      }
    },
    {
      "cell_type": "code",
      "execution_count": null,
      "metadata": {
        "colab": {
          "base_uri": "https://localhost:8080/"
        },
        "id": "tP0TvT3H2r89",
        "outputId": "46361414-273f-466c-e5af-33cdb5b465da"
      },
      "outputs": [
        {
          "output_type": "stream",
          "name": "stdout",
          "text": [
            "green-red-yellow-black-white\n",
            "black-green-red-white-yellow\n"
          ]
        }
      ],
      "source": [
        "\"\"\"\n",
        "Write a python program that accepts a hyphen-separated sequence of colors as input\n",
        "and return the colors in a hyphen-separated sequence after sorting them alphabetically.\n",
        "Constraint: All the colors will be completely in lowercase or uppercase\n",
        "Sample Input 1: green-red-yellow-black-white\n",
        "Sample Output 1: black-green-red-white-yellow\n",
        "Sample Input 2: PINK-BLUE-TAN-PURPLE\n",
        "Sample Output 2: BLUE-PINK-PURPLE-TAN\n",
        "\"\"\"\n",
        "string = input()\n",
        "colors = string.split('-')\n",
        "colors.sort()\n",
        "print('-'.join(colors))"
      ]
    },
    {
      "cell_type": "markdown",
      "source": [
        "### Playing with names"
      ],
      "metadata": {
        "id": "R5lUtWnC54Uy"
      }
    },
    {
      "cell_type": "code",
      "source": [
        "\"\"\"\n",
        "Create Python modules with the functions:\n",
        "Function Name - Task\n",
        "- ispalindrome(name) - Given the user name as input, this function should tell us whether the name is a palindrome or not\n",
        "- count_the_vowels(name) - Given the user name as input, this function should tell us how many vowels are present in it\n",
        "- frequency_of_letters(name) - Given the user name as input, this function should tell us how many time each letter appears in the name.\n",
        "Note: name will be completely in either lowercase or uppercase.\n",
        "Import the modules in another python script and test the functions by passing appropriate inputs.\n",
        "Sample Input 1: bob\n",
        "Sample Output 1:\n",
        "Yes it is a palindrome\n",
        "No.of Vowels: 1\n",
        "Frequency of letters: b-2, o-1\n",
        "Sample Input 2: marcel bentok tanaka\n",
        "Sample Output 2:\n",
        "No it is not a palindrome\n",
        "No.of Vowels: 7\n",
        "Frequency of letters: m-1, a-4, r-1, c-1, e-2, l-1, b-1, n-2, t-2, o-1, k-2\n",
        "\"\"\"\n",
        "name = input()\n",
        "def ispalindrome(name):\n",
        "  if name == name[::-1]:\n",
        "    print(\"Yes it is a palindrome\")\n",
        "  else:\n",
        "    print(\"No it is not a palindrome\")\n",
        "def count_the_vowels(name):\n",
        "  vowels = ['a', 'e', 'i', 'o', 'u']\n",
        "  count = 0\n",
        "  for i in name:\n",
        "    if i in vowels:\n",
        "      count += 1\n",
        "  print(\"No.of Vowels: \", count)\n",
        "def frequency_of_letters(name):\n",
        "  name = name.replace(\" \", \"\")\n",
        "  freq = {}\n",
        "  for ch in name:\n",
        "    freq[ch] = freq.get(ch, 0) + 1\n",
        "  freq_str = \", \".join(f\"{letter}-{count}\" for letter, count in freq.items())\n",
        "  print(\"Frequency of letters: \", freq_str)\n",
        "ispalindrome(name)\n",
        "count_the_vowels(name)\n",
        "frequency_of_letters(name)"
      ],
      "metadata": {
        "colab": {
          "base_uri": "https://localhost:8080/"
        },
        "id": "EWXYy9zAFTba",
        "outputId": "d5b60a71-3de5-4123-d383-3748dfef7563"
      },
      "execution_count": null,
      "outputs": [
        {
          "output_type": "stream",
          "name": "stdout",
          "text": [
            "bob\n",
            "Yes it is a palindrome\n",
            "No.of Vowels:  1\n",
            "Frequency of letters:  b-2, o-1\n"
          ]
        }
      ]
    },
    {
      "cell_type": "code",
      "source": [],
      "metadata": {
        "id": "agBV0uVLHpQp"
      },
      "execution_count": null,
      "outputs": []
    }
  ]
}