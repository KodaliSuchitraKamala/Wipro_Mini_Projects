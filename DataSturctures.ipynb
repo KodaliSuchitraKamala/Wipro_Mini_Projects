{
  "nbformat": 4,
  "nbformat_minor": 0,
  "metadata": {
    "colab": {
      "provenance": [],
      "authorship_tag": "ABX9TyMX41RxYRGZMPbv2vQ4mo2z",
      "include_colab_link": true
    },
    "kernelspec": {
      "name": "python3",
      "display_name": "Python 3"
    },
    "language_info": {
      "name": "python"
    }
  },
  "cells": [
    {
      "cell_type": "markdown",
      "metadata": {
        "id": "view-in-github",
        "colab_type": "text"
      },
      "source": [
        "<a href=\"https://colab.research.google.com/github/KodaliSuchitraKamala/Wipro_Mini_Projects/blob/main/DataSturctures.ipynb\" target=\"_parent\"><img src=\"https://colab.research.google.com/assets/colab-badge.svg\" alt=\"Open In Colab\"/></a>"
      ]
    },
    {
      "cell_type": "markdown",
      "source": [
        "### People and Facts"
      ],
      "metadata": {
        "id": "Vcczkl1Bzd85"
      }
    },
    {
      "cell_type": "code",
      "execution_count": null,
      "metadata": {
        "colab": {
          "base_uri": "https://localhost:8080/"
        },
        "id": "Z5kKzvOOzRe9",
        "outputId": "1631d6e1-6f54-4fc3-c636-b46778ba05ff"
      },
      "outputs": [
        {
          "output_type": "stream",
          "name": "stdout",
          "text": [
            "Original List:\n",
            "Jeff: Is afraid of Dogs.\n",
            "David: Plays the piano.\n",
            "Jason: Can fly an airplane.\n",
            "\n",
            "Updated List:\n",
            "Jeff: Is afraid of Dogs.\n",
            "David: Can play chess.\n",
            "Jason: Can fly an airplane.\n",
            "Jill: Can hula dance.\n"
          ]
        }
      ],
      "source": [
        "\"\"\"\n",
        "Create a dictionary that contains a list of people and one interestin fact about each of them.\n",
        "Display each person and his or her interesting fact to the screen. Next, change a fact about one of\n",
        "the people. Also add an additional person and corresponding fact. Display the new list of people\n",
        "and facts. Run the people multiple times and notice if the order changes.\n",
        "Sample Output:\n",
        "Jeff: Is afraid of Dogs.\n",
        "David: Plays the piano.\n",
        "Jason: Can fly an airplane.\n",
        "\n",
        "Jeff: Is afraid of Dogs.\n",
        "David: Plays the piano.\n",
        "Jason: Can fly an airplane.\n",
        "Jill: Can hula dance.\n",
        "\"\"\"\n",
        "people = {\n",
        "    \"Jeff\": \"Is afraid of Dogs.\",\n",
        "    \"David\": \"Plays the piano.\",\n",
        "    \"Jason\": \"Can fly an airplane.\"\n",
        "}\n",
        "print(\"Original List:\")\n",
        "for person, fact in people.items():\n",
        "    print(f\"{person}: {fact}\")\n",
        "people[\"David\"] = \"Can play chess.\"\n",
        "people[\"Jill\"] = \"Can hula dance.\"\n",
        "print(\"\\nUpdated List:\")\n",
        "for person, fact in people.items():\n",
        "    print(f\"{person}: {fact}\")"
      ]
    },
    {
      "cell_type": "markdown",
      "source": [
        "### Find The Runner-up Score"
      ],
      "metadata": {
        "id": "gCitgELU0DV6"
      }
    },
    {
      "cell_type": "code",
      "source": [
        "\"\"\"\n",
        "Given the participant's score sheet for your University Sports Day, you are\n",
        "required to find the runner-up score. You have scores. Store them in a list and\n",
        "find the score of the runner-up.\n",
        "Sample input: [2, 3, 6, 6, 5]\n",
        "Sample output: 5\n",
        "Explaination : Givem list is [2, 3, 6, 6, 5]. the maximum score is 6, second\n",
        "maximum is 5. Hence, we print 5 as the runner-up score.\n",
        "\"\"\"\n",
        "scores = [2, 3, 6, 6, 5]\n",
        "unique_scores = list(set(scores))\n",
        "unique_scores.sort(reverse=True)\n",
        "runner_up = unique_scores[1]\n",
        "print(\"Runner-up score:\", runner_up)"
      ],
      "metadata": {
        "colab": {
          "base_uri": "https://localhost:8080/"
        },
        "id": "lmbjgyhHzfqS",
        "outputId": "eb785619-387f-485f-d87f-a69faa24e2e6"
      },
      "execution_count": null,
      "outputs": [
        {
          "output_type": "stream",
          "name": "stdout",
          "text": [
            "Runner-up score: 5\n"
          ]
        }
      ]
    },
    {
      "cell_type": "markdown",
      "source": [
        "### Find The Percentage"
      ],
      "metadata": {
        "id": "EBvGMn3P0dqB"
      }
    },
    {
      "cell_type": "code",
      "source": [
        "\"\"\"\n",
        "You have a record of n students. Each record contains the student's name, and\n",
        "their percent marks in Math, Physics and Chemistry. The marks can be Floating\n",
        "values. You are required to save the record in a dictionary data type.\n",
        "Student's name is the key. Marks stored in a list is the value. The user enters a\n",
        "student's name. Output the average percentage marks obtained by that\n",
        "student.\n",
        "Formula: (Sum of marks) / (no.of Subject)\n",
        "Sample Inuput:\n",
        "{\n",
        "  \"Krishna\": [67, 68, 69],\n",
        "  \"Arjun\": [70, 98, 63],\n",
        "  \"Malika\": [52, 56, 60]\n",
        "}\n",
        "Sample Output:\n",
        "Enter a Name: Malika\n",
        "Average Percentage Marks: 56\n",
        "Explaination:\n",
        "Marks of Malika are [52, 56, 60] whose average is (52 + 56 + 60) / 3 => 56\n",
        "\"\"\"\n",
        "dict1 = {\"Krishna\": [67, 68, 69], \"Arjun\": [70, 98, 63], \"Malika\": [52, 56, 60]}\n",
        "name = input(\"Enter a Name: \")\n",
        "marks = dict1[name]\n",
        "average = sum(marks) / len(marks)\n",
        "print(f\"Average Percentage Marks: {average:.2f}\")"
      ],
      "metadata": {
        "colab": {
          "base_uri": "https://localhost:8080/"
        },
        "id": "nMA1NkFa2TSA",
        "outputId": "3a23b16f-8671-4797-fbb3-e431c8bec658"
      },
      "execution_count": null,
      "outputs": [
        {
          "output_type": "stream",
          "name": "stdout",
          "text": [
            "Enter a Name: Malika\n",
            "Average Percentage Marks: 56.00\n"
          ]
        }
      ]
    },
    {
      "cell_type": "markdown",
      "source": [
        "### Find The Name"
      ],
      "metadata": {
        "id": "4LE_vX4o2zY7"
      }
    },
    {
      "cell_type": "code",
      "source": [
        "\"\"\"\n",
        "Given a String of n words, help Alex to find out how many times his name appears in the string.\n",
        "Constraits: 1 <= n <= 200\n",
        "Sample Input: Hi Alex WelcomeAlex Bye Alex\n",
        "Sample Output: 3\n",
        "Explaination: Alex name appears 3 times in the string. Hi Alex WelcomeAlex Bye Alex\n",
        "\"\"\"\n",
        "string = \"Hi Alex WelcomeAlex Bye Alex\"\n",
        "name = \"Alex\"\n",
        "count = string.count(name)\n",
        "print(count)"
      ],
      "metadata": {
        "id": "2QSVu87z2mT1",
        "colab": {
          "base_uri": "https://localhost:8080/"
        },
        "outputId": "b9db6bb1-d003-448d-c1ce-7f8d63a612a5"
      },
      "execution_count": null,
      "outputs": [
        {
          "output_type": "stream",
          "name": "stdout",
          "text": [
            "3\n"
          ]
        }
      ]
    },
    {
      "cell_type": "code",
      "source": [],
      "metadata": {
        "id": "XXz_c2jZ2Se2"
      },
      "execution_count": null,
      "outputs": []
    }
  ]
}