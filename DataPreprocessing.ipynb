{
  "nbformat": 4,
  "nbformat_minor": 0,
  "metadata": {
    "colab": {
      "provenance": [],
      "authorship_tag": "ABX9TyNUxqYniK3In6uuyqJZTW3f",
      "include_colab_link": true
    },
    "kernelspec": {
      "name": "python3",
      "display_name": "Python 3"
    },
    "language_info": {
      "name": "python"
    }
  },
  "cells": [
    {
      "cell_type": "markdown",
      "metadata": {
        "id": "view-in-github",
        "colab_type": "text"
      },
      "source": [
        "<a href=\"https://colab.research.google.com/github/KodaliSuchitraKamala/Wipro_Mini_Projects/blob/main/DataPreprocessing.ipynb\" target=\"_parent\"><img src=\"https://colab.research.google.com/assets/colab-badge.svg\" alt=\"Open In Colab\"/></a>"
      ]
    },
    {
      "cell_type": "code",
      "execution_count": 2,
      "metadata": {
        "colab": {
          "base_uri": "https://localhost:8080/"
        },
        "id": "X42rxnRP2w5d",
        "outputId": "87d65f2b-e7f6-4a94-eff8-fc91cd437cf2"
      },
      "outputs": [
        {
          "output_type": "stream",
          "name": "stdout",
          "text": [
            "✅ Dataset Loaded Successfully!\n",
            "       Suburb           Address  Rooms Type      Price Method SellerG  \\\n",
            "0  Abbotsford      85 Turner St      2    h  1480000.0      S  Biggin   \n",
            "1  Abbotsford   25 Bloomburg St      2    h  1035000.0      S  Biggin   \n",
            "2  Abbotsford      5 Charles St      3    h  1465000.0     SP  Biggin   \n",
            "3  Abbotsford  40 Federation La      3    h   850000.0     PI  Biggin   \n",
            "4  Abbotsford       55a Park St      4    h  1600000.0     VB  Nelson   \n",
            "\n",
            "        Date  Distance  Postcode  ...  Bathroom  Car  Landsize  BuildingArea  \\\n",
            "0  3/12/2016       2.5    3067.0  ...       1.0  1.0     202.0           NaN   \n",
            "1  4/02/2016       2.5    3067.0  ...       1.0  0.0     156.0          79.0   \n",
            "2  4/03/2017       2.5    3067.0  ...       2.0  0.0     134.0         150.0   \n",
            "3  4/03/2017       2.5    3067.0  ...       2.0  1.0      94.0           NaN   \n",
            "4  4/06/2016       2.5    3067.0  ...       1.0  2.0     120.0         142.0   \n",
            "\n",
            "   YearBuilt  CouncilArea Lattitude  Longtitude             Regionname  \\\n",
            "0        NaN        Yarra  -37.7996    144.9984  Northern Metropolitan   \n",
            "1     1900.0        Yarra  -37.8079    144.9934  Northern Metropolitan   \n",
            "2     1900.0        Yarra  -37.8093    144.9944  Northern Metropolitan   \n",
            "3        NaN        Yarra  -37.7969    144.9969  Northern Metropolitan   \n",
            "4     2014.0        Yarra  -37.8072    144.9941  Northern Metropolitan   \n",
            "\n",
            "  Propertycount  \n",
            "0        4019.0  \n",
            "1        4019.0  \n",
            "2        4019.0  \n",
            "3        4019.0  \n",
            "4        4019.0  \n",
            "\n",
            "[5 rows x 21 columns]\n",
            "\n",
            "📌 Dropped 'Address' column as it is not useful for prediction.\n",
            "\n",
            "✅ Missing values handled.\n",
            "\n",
            "✅ Categorical data encoded.\n",
            "\n",
            "🔎 Cleaned Dataset Info:\n",
            "<class 'pandas.core.frame.DataFrame'>\n",
            "RangeIndex: 13580 entries, 0 to 13579\n",
            "Data columns (total 20 columns):\n",
            " #   Column         Non-Null Count  Dtype  \n",
            "---  ------         --------------  -----  \n",
            " 0   Suburb         13580 non-null  int64  \n",
            " 1   Rooms          13580 non-null  int64  \n",
            " 2   Type           13580 non-null  int64  \n",
            " 3   Price          13580 non-null  float64\n",
            " 4   Method         13580 non-null  int64  \n",
            " 5   SellerG        13580 non-null  int64  \n",
            " 6   Date           13580 non-null  int64  \n",
            " 7   Distance       13580 non-null  float64\n",
            " 8   Postcode       13580 non-null  float64\n",
            " 9   Bedroom2       13580 non-null  float64\n",
            " 10  Bathroom       13580 non-null  float64\n",
            " 11  Car            13580 non-null  float64\n",
            " 12  Landsize       13580 non-null  float64\n",
            " 13  BuildingArea   13580 non-null  float64\n",
            " 14  YearBuilt      13580 non-null  float64\n",
            " 15  CouncilArea    13580 non-null  int64  \n",
            " 16  Lattitude      13580 non-null  float64\n",
            " 17  Longtitude     13580 non-null  float64\n",
            " 18  Regionname     13580 non-null  int64  \n",
            " 19  Propertycount  13580 non-null  float64\n",
            "dtypes: float64(12), int64(8)\n",
            "memory usage: 2.1 MB\n",
            "None\n",
            "\n",
            "First 5 rows after preprocessing:\n",
            "   Suburb  Rooms  Type      Price  Method  SellerG  Date  Distance  Postcode  \\\n",
            "0       0      2     0  1480000.0       1       23    45       2.5    3067.0   \n",
            "1       0      2     0  1035000.0       1       23    47       2.5    3067.0   \n",
            "2       0      3     0  1465000.0       3       23    48       2.5    3067.0   \n",
            "3       0      3     0   850000.0       0       23    48       2.5    3067.0   \n",
            "4       0      4     0  1600000.0       4      155    49       2.5    3067.0   \n",
            "\n",
            "   Bedroom2  Bathroom  Car  Landsize  BuildingArea  YearBuilt  CouncilArea  \\\n",
            "0       2.0       1.0  1.0     202.0         126.0     1970.0           31   \n",
            "1       2.0       1.0  0.0     156.0          79.0     1900.0           31   \n",
            "2       3.0       2.0  0.0     134.0         150.0     1900.0           31   \n",
            "3       3.0       2.0  1.0      94.0         126.0     1970.0           31   \n",
            "4       3.0       1.0  2.0     120.0         142.0     2014.0           31   \n",
            "\n",
            "   Lattitude  Longtitude  Regionname  Propertycount  \n",
            "0   -37.7996    144.9984           2         4019.0  \n",
            "1   -37.8079    144.9934           2         4019.0  \n",
            "2   -37.8093    144.9944           2         4019.0  \n",
            "3   -37.7969    144.9969           2         4019.0  \n",
            "4   -37.8072    144.9941           2         4019.0  \n"
          ]
        },
        {
          "output_type": "stream",
          "name": "stderr",
          "text": [
            "/tmp/ipython-input-2839845562.py:21: FutureWarning: A value is trying to be set on a copy of a DataFrame or Series through chained assignment using an inplace method.\n",
            "The behavior will change in pandas 3.0. This inplace method will never work because the intermediate object on which we are setting values always behaves as a copy.\n",
            "\n",
            "For example, when doing 'df[col].method(value, inplace=True)', try using 'df.method({col: value}, inplace=True)' or df[col] = df[col].method(value) instead, to perform the operation inplace on the original object.\n",
            "\n",
            "\n",
            "  df[col].fillna(df[col].mode()[0], inplace=True)\n",
            "/tmp/ipython-input-2839845562.py:23: FutureWarning: A value is trying to be set on a copy of a DataFrame or Series through chained assignment using an inplace method.\n",
            "The behavior will change in pandas 3.0. This inplace method will never work because the intermediate object on which we are setting values always behaves as a copy.\n",
            "\n",
            "For example, when doing 'df[col].method(value, inplace=True)', try using 'df.method({col: value}, inplace=True)' or df[col] = df[col].method(value) instead, to perform the operation inplace on the original object.\n",
            "\n",
            "\n",
            "  df[col].fillna(df[col].median(), inplace=True)\n"
          ]
        }
      ],
      "source": [
        "\"\"\"\n",
        "Use-Case: House Price Prediction\n",
        "Dataset: melb_data.csv\n",
        "The dataset can be downloaded melb_data.csv|Kaggle\n",
        "Perform the following tasks:\n",
        "1. Load the data in the dataframe (Pandas).\n",
        "2. Handle the in appropriate data.\n",
        "3. Handle the missing data.\n",
        "4. Handle the categorical data.\n",
        "\"\"\"\n",
        "import pandas as pd\n",
        "from sklearn.preprocessing import LabelEncoder\n",
        "df = pd.read_csv(\"melb_data.csv\")\n",
        "print(\"✅ Dataset Loaded Successfully!\")\n",
        "print(df.head())\n",
        "if 'Address' in df.columns:\n",
        "    df.drop(columns=['Address'], inplace=True)\n",
        "    print(\"\\n📌 Dropped 'Address' column as it is not useful for prediction.\")\n",
        "for col in df.columns:\n",
        "    if df[col].dtype == \"object\":\n",
        "        df[col].fillna(df[col].mode()[0], inplace=True)\n",
        "    else:\n",
        "        df[col].fillna(df[col].median(), inplace=True)\n",
        "print(\"\\n✅ Missing values handled.\")\n",
        "label_encoders = {}\n",
        "for col in df.select_dtypes(include=['object']).columns:\n",
        "    le = LabelEncoder()\n",
        "    df[col] = le.fit_transform(df[col])\n",
        "    label_encoders[col] = le\n",
        "print(\"\\n✅ Categorical data encoded.\")\n",
        "print(\"\\n🔎 Cleaned Dataset Info:\")\n",
        "print(df.info())\n",
        "print(\"\\nFirst 5 rows after preprocessing:\")\n",
        "print(df.head())"
      ]
    },
    {
      "cell_type": "code",
      "source": [],
      "metadata": {
        "id": "K57x_5Uo4FR2"
      },
      "execution_count": null,
      "outputs": []
    }
  ]
}