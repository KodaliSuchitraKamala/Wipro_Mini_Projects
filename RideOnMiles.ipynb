{
  "nbformat": 4,
  "nbformat_minor": 0,
  "metadata": {
    "colab": {
      "provenance": [],
      "authorship_tag": "ABX9TyM9Ee+jHQB4fU2xS7Xpp9Fx",
      "include_colab_link": true
    },
    "kernelspec": {
      "name": "python3",
      "display_name": "Python 3"
    },
    "language_info": {
      "name": "python"
    }
  },
  "cells": [
    {
      "cell_type": "markdown",
      "metadata": {
        "id": "view-in-github",
        "colab_type": "text"
      },
      "source": [
        "<a href=\"https://colab.research.google.com/github/KodaliSuchitraKamala/Wipro_Mini_Projects/blob/main/RideOnMiles.ipynb\" target=\"_parent\"><img src=\"https://colab.research.google.com/assets/colab-badge.svg\" alt=\"Open In Colab\"/></a>"
      ]
    },
    {
      "cell_type": "markdown",
      "source": [
        "### Ride On Miles"
      ],
      "metadata": {
        "id": "6VjEizdPyGPr"
      }
    },
    {
      "cell_type": "code",
      "execution_count": null,
      "metadata": {
        "colab": {
          "base_uri": "https://localhost:8080/"
        },
        "id": "uNsYEgr_x21J",
        "outputId": "c01768d6-3c94-4bdf-8849-e7514dddd9ba"
      },
      "outputs": [
        {
          "output_type": "stream",
          "name": "stdout",
          "text": [
            "How far would you like to travel in miles? 500\n",
            "I suggest Super-Cars to your destination\n"
          ]
        }
      ],
      "source": [
        "\"\"\"\n",
        "Create a Python program that asks the user how far they want to travel. If they want to travel less than\n",
        "three miles tell them to ride Bicycle. If they want to travel more than three miles, but less than three\n",
        "hundred miles, tell them to ride Motor-Cycle. If they want to travel three hundred miles or more tell them to\n",
        "driver Super-Car.\n",
        "\"\"\"\n",
        "m = int(input(\"How far would you like to travel in miles? \"))\n",
        "if m < 3:\n",
        "    print(\"I suggest Bycycle to your destination\")\n",
        "elif m > 3 and m < 300:\n",
        "    print(\"I suggest Motor-Cycle to your destination\")\n",
        "else:\n",
        "    print(\"I suggest Super-Cars to your destination\")"
      ]
    },
    {
      "cell_type": "code",
      "source": [
        "\"\"\"\n",
        "Let's assume you are planning to use your Python skills to build a PBLApp for Mobile.\n",
        "You decide to host your application on servers running inthe cloud. You pick a hosting provider\n",
        "that charges $0.51 per hour. You will launch your service using one server and want to know\n",
        "how much it will cost to operate per day, per week, per month.\n",
        "Write a Python program that displays the answers to the following questions:\n",
        "How much does it cost to operate one server per day?\n",
        "How much does it cost to operate one server per week?\n",
        "How much does it cost to operate one server per month?\n",
        "How many days can I operate one server with $918?\n",
        "\"\"\"\n",
        "c = 0.51\n",
        "print(\"per hour charge: \", c)\n",
        "print(\"per day charge: \", c * 24)\n",
        "print(\"per week charge: \", (c * 24) * 7)\n",
        "print(\"per month charge: \", ((c * 24) * 7) * 30)\n",
        "print(\"no.of days for per $918: \", (918 / 0.51))"
      ],
      "metadata": {
        "colab": {
          "base_uri": "https://localhost:8080/"
        },
        "id": "QTOkw0I6ydq5",
        "outputId": "1b1f4cd3-8b6a-472f-898d-3b9f4732fe48"
      },
      "execution_count": null,
      "outputs": [
        {
          "output_type": "stream",
          "name": "stdout",
          "text": [
            "per hour charge:  0.51\n",
            "per day charge:  12.24\n",
            "per week charge:  85.68\n",
            "per month charge:  2570.4\n",
            "no.of days for per $918:  1800.0\n"
          ]
        }
      ]
    },
    {
      "cell_type": "code",
      "source": [],
      "metadata": {
        "id": "zZVe-qsAyvOo"
      },
      "execution_count": null,
      "outputs": []
    }
  ]
}